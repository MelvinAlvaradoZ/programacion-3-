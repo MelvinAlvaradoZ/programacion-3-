{
 "cells": [
  {
   "cell_type": "code",
   "execution_count": null,
   "id": "88d64f0e-f4bd-455d-b05b-95d459a48a4d",
   "metadata": {},
   "outputs": [],
   "source": [
    "import math \n",
    "a = float(input(\"Esciba AX2\"))\n",
    "b = float(input(\"Esciba BX\"))\n",
    "c = float(input(\"Esciba c\"))\n",
    "\n",
    "x1 = -(4.0*a*c)\n",
    "x2 =-(b)+ math.sqrt(pow)(b,2)-(4.0*a*c)\n",
    "\n",
    "x1 = -(b)+ math.sqrt(pow)(b,2)-(4*a*c)/(2*a)\n",
    "x2 = -(b)- math.sqrt(pow)(b,2)-(4*a*c)/(2*a)\n",
    "\n",
    "print(\"El valor de x1 es:\",x1)\n",
    "print(\"El valor de x2 es:\",x2)"
   ]
  },
  {
   "cell_type": "code",
   "execution_count": null,
   "id": "f814402b-bc63-445e-ac4a-2dc444959245",
   "metadata": {},
   "outputs": [],
   "source": []
  }
 ],
 "metadata": {
  "kernelspec": {
   "display_name": "Python 3 (ipykernel)",
   "language": "python",
   "name": "python3"
  },
  "language_info": {
   "codemirror_mode": {
    "name": "ipython",
    "version": 3
   },
   "file_extension": ".py",
   "mimetype": "text/x-python",
   "name": "python",
   "nbconvert_exporter": "python",
   "pygments_lexer": "ipython3",
   "version": "3.13.2"
  }
 },
 "nbformat": 4,
 "nbformat_minor": 5
}
