{
 "cells": [
  {
   "cell_type": "code",
   "execution_count": 1,
   "id": "b9aae70c-3393-4e56-b314-923cba521330",
   "metadata": {},
   "outputs": [],
   "source": [
    "pares = [0,2,4,5,8,10]"
   ]
  },
  {
   "cell_type": "code",
   "execution_count": 2,
   "id": "44f591e9-1e2c-4a76-a024-37274ea1ac98",
   "metadata": {},
   "outputs": [],
   "source": [
    "pares[3]= 6"
   ]
  },
  {
   "cell_type": "code",
   "execution_count": 3,
   "id": "9f75382d-66d9-458c-9a2a-cc35b2ecd8af",
   "metadata": {},
   "outputs": [
    {
     "data": {
      "text/plain": [
       "[0, 2, 4, 6, 8, 10]"
      ]
     },
     "execution_count": 3,
     "metadata": {},
     "output_type": "execute_result"
    }
   ],
   "source": [
    "pares"
   ]
  },
  {
   "cell_type": "code",
   "execution_count": 5,
   "id": "a0de7153-fb4e-4833-89ed-1e1aecdaeb6c",
   "metadata": {},
   "outputs": [],
   "source": [
    "pares.append(7*2)"
   ]
  },
  {
   "cell_type": "code",
   "execution_count": 6,
   "id": "f15e07b7-d0c7-4504-a596-9d81be48ce0e",
   "metadata": {},
   "outputs": [
    {
     "data": {
      "text/plain": [
       "[0, 2, 4, 6, 8, 10, 14, 14]"
      ]
     },
     "execution_count": 6,
     "metadata": {},
     "output_type": "execute_result"
    }
   ],
   "source": [
    "pares"
   ]
  },
  {
   "cell_type": "code",
   "execution_count": 7,
   "id": "62c46e39-1c78-4e88-bec2-cc96e2c58abb",
   "metadata": {},
   "outputs": [],
   "source": [
    "letras = ['a','b','c','d','e','f']"
   ]
  },
  {
   "cell_type": "code",
   "execution_count": 9,
   "id": "85b4e96b-bb80-4b2b-afbc-9660d1b2cf94",
   "metadata": {},
   "outputs": [
    {
     "data": {
      "text/plain": [
       "['a', 'b', 'c']"
      ]
     },
     "execution_count": 9,
     "metadata": {},
     "output_type": "execute_result"
    }
   ],
   "source": [
    "letras[:3]"
   ]
  }
 ],
 "metadata": {
  "kernelspec": {
   "display_name": "Python 3 (ipykernel)",
   "language": "python",
   "name": "python3"
  },
  "language_info": {
   "codemirror_mode": {
    "name": "ipython",
    "version": 3
   },
   "file_extension": ".py",
   "mimetype": "text/x-python",
   "name": "python",
   "nbconvert_exporter": "python",
   "pygments_lexer": "ipython3",
   "version": "3.13.2"
  }
 },
 "nbformat": 4,
 "nbformat_minor": 5
}
