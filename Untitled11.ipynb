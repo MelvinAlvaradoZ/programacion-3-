{
 "cells": [
  {
   "cell_type": "code",
   "execution_count": 2,
   "id": "169ac483-6a3f-439f-8191-4bf245a9eaf1",
   "metadata": {},
   "outputs": [
    {
     "name": "stdout",
     "output_type": "stream",
     "text": [
      "imprime de todas formas\n"
     ]
    }
   ],
   "source": [
    "if False: # equivale a if not false\n",
    "    print(\"se cumple la condicion\")\n",
    "    print(\"tambien se muestre este print\")\n",
    "print(\"imprime de todas formas\")"
   ]
  },
  {
   "cell_type": "code",
   "execution_count": 4,
   "id": "200e289c-a8c7-4cbb-a5ac-2d5125d6d9ca",
   "metadata": {},
   "outputs": [
    {
     "name": "stdout",
     "output_type": "stream",
     "text": [
      "a vale 2\n"
     ]
    }
   ],
   "source": [
    "a = 2\n",
    "if a == 2:\n",
    "    print(\"a vale 2\")\n",
    "if a == 5:\n",
    "    print(\"a vale 5\")"
   ]
  },
  {
   "cell_type": "code",
   "execution_count": null,
   "id": "3e26a36f-99ae-4b31-b2e5-ed9ff2b6983b",
   "metadata": {},
   "outputs": [],
   "source": []
  },
  {
   "cell_type": "code",
   "execution_count": 8,
   "id": "46dca297-6a41-4a15-b366-92eebb053075",
   "metadata": {},
   "outputs": [
    {
     "name": "stdout",
     "output_type": "stream",
     "text": [
      "a vale 6\n",
      "y b vale 10\n",
      "valor de a y b 6 10\n"
     ]
    }
   ],
   "source": [
    "a = 6\n",
    "b =10\n",
    "if a == 6:\n",
    "    print(\"a vale\",a)\n",
    "    if b == 10:\n",
    "        print(\"y b vale\",b)\n",
    "print(\"valor de a y b\",a,b)"
   ]
  },
  {
   "cell_type": "code",
   "execution_count": 35,
   "id": "523ebd18-55eb-4c7f-8337-ca890b82c675",
   "metadata": {},
   "outputs": [
    {
     "name": "stdout",
     "output_type": "stream",
     "text": [
      "11 es un numero impar\n"
     ]
    }
   ],
   "source": [
    "n = 11\n",
    "if n % 2 == 0:\n",
    "    print(n,\"es un numero par\")\n",
    "else:\n",
    "    print(n,\"es un numero impar\")"
   ]
  }
 ],
 "metadata": {
  "kernelspec": {
   "display_name": "Python 3 (ipykernel)",
   "language": "python",
   "name": "python3"
  },
  "language_info": {
   "codemirror_mode": {
    "name": "ipython",
    "version": 3
   },
   "file_extension": ".py",
   "mimetype": "text/x-python",
   "name": "python",
   "nbconvert_exporter": "python",
   "pygments_lexer": "ipython3",
   "version": "3.13.2"
  }
 },
 "nbformat": 4,
 "nbformat_minor": 5
}
