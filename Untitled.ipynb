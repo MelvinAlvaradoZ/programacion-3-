{
 "cells": [
  {
   "cell_type": "code",
   "execution_count": null,
   "id": "2e2ecb8a-06dd-4f09-b2a8-7bca4f951857",
   "metadata": {},
   "outputs": [],
   "source": [
    "Er=base*altura"
   ]
  },
  {
   "cell_type": "markdown",
   "id": "9a28b5fa-5f20-44ed-a44b-9ebf55fab7e5",
   "metadata": {},
   "source": [
    "base = float (input(\"escriba cual es la base\"))\n",
    "altura = float (input(\"escriba cual es la altura\"))\n",
    "area = float (base*altura)\n",
    "\n",
    "print (\"el area de rectangulo es:\",area)"
   ]
  },
  {
   "cell_type": "code",
   "execution_count": null,
   "id": "381bef67-3856-4080-92f6-0b301060c4a4",
   "metadata": {},
   "outputs": [],
   "source": [
    "At=base*Altura/2"
   ]
  },
  {
   "cell_type": "code",
   "execution_count": 2,
   "id": "99560da0-24e8-4bbc-9a46-7ff168411c38",
   "metadata": {},
   "outputs": [
    {
     "name": "stdin",
     "output_type": "stream",
     "text": [
      "escriba cual es la base 4\n",
      "escriba cuales la altura 5\n"
     ]
    },
    {
     "name": "stdout",
     "output_type": "stream",
     "text": [
      "el area de trianguo es: 10.0\n"
     ]
    }
   ],
   "source": [
    "base = float(input(\"escriba cual es la base\"))\n",
    "altura = float(input(\"escriba cuales la altura\"))\n",
    "area = float (base*altura)/2\n",
    "\n",
    "print (\"el area de trianguo es:\",area)"
   ]
  },
  {
   "cell_type": "code",
   "execution_count": null,
   "id": "8b3a8554-df28-438d-bb4e-702e8823b999",
   "metadata": {},
   "outputs": [],
   "source": []
  }
 ],
 "metadata": {
  "kernelspec": {
   "display_name": "Python 3 (ipykernel)",
   "language": "python",
   "name": "python3"
  },
  "language_info": {
   "codemirror_mode": {
    "name": "ipython",
    "version": 3
   },
   "file_extension": ".py",
   "mimetype": "text/x-python",
   "name": "python",
   "nbconvert_exporter": "python",
   "pygments_lexer": "ipython3",
   "version": "3.13.2"
  }
 },
 "nbformat": 4,
 "nbformat_minor": 5
}
