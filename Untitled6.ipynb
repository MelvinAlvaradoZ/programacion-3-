{
 "cells": [
  {
   "cell_type": "code",
   "execution_count": 12,
   "id": "f40e6e71-90d6-483f-8205-df053e94ba24",
   "metadata": {},
   "outputs": [
    {
     "name": "stdin",
     "output_type": "stream",
     "text": [
      "ingrese numero de litros 12\n",
      "ingrese el total de una galon 45\n",
      "ingrese el numero gasolina 24.42\n"
     ]
    },
    {
     "name": "stdout",
     "output_type": "stream",
     "text": [
      "el total a pagar es: 540.0\n"
     ]
    }
   ],
   "source": [
    "litros= float(input(\"ingrese numero de litros\"))\n",
    "precio= float(input(\"ingrese el precio de un galon\"))\n",
    "galon = litros/3.25\n",
    "gasolina= galon*precio\n",
    "\n",
    "print(\"el total a pagar es:\",gasolina)\n",
    "\n",
    "\n",
    "         "
   ]
  },
  {
   "cell_type": "code",
   "execution_count": null,
   "id": "8aa47887-77cb-416c-899e-ccb4abf72ce2",
   "metadata": {},
   "outputs": [],
   "source": []
  }
 ],
 "metadata": {
  "kernelspec": {
   "display_name": "Python 3 (ipykernel)",
   "language": "python",
   "name": "python3"
  },
  "language_info": {
   "codemirror_mode": {
    "name": "ipython",
    "version": 3
   },
   "file_extension": ".py",
   "mimetype": "text/x-python",
   "name": "python",
   "nbconvert_exporter": "python",
   "pygments_lexer": "ipython3",
   "version": "3.13.2"
  }
 },
 "nbformat": 4,
 "nbformat_minor": 5
}
