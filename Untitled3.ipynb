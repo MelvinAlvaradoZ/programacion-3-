{
 "cells": [
  {
   "cell_type": "code",
   "execution_count": null,
   "id": "ddd07538-9cd7-488e-9697-50faca9f3284",
   "metadata": {},
   "outputs": [
    {
     "data": {
      "text/plain": [
       "\"esta'palabra'entre comillas simples\""
      ]
     },
     "execution_count": 1,
     "metadata": {},
     "output_type": "execute_result"
    }
   ],
   "source": [
    "'esta\\'palabra\\'entre comillas simples'"
   ]
  },
  {
   "cell_type": "code",
   "execution_count": null,
   "id": "9e654912-0d7f-42de-9cd7-3b48053d2706",
   "metadata": {},
   "outputs": [
    {
     "name": "stdout",
     "output_type": "stream",
     "text": [
      "esta'palabraa'entre comillassimples\n"
     ]
    }
   ],
   "source": [
    "print ('esta\\'palabraa\\'entre comillassimples')"
   ]
  },
  {
   "cell_type": "code",
   "execution_count": 1,
   "id": "3793119a-f2d1-42fa-b9e2-f998144c1172",
   "metadata": {},
   "outputs": [
    {
     "name": "stdout",
     "output_type": "stream",
     "text": [
      "este texto incluye \"Melvin \" \n"
     ]
    }
   ],
   "source": [
    "print('este texto incluye \"Melvin \" ')"
   ]
  },
  {
   "cell_type": "code",
   "execution_count": null,
   "id": "1c9df2cd-ba12-40b4-825d-660be3da2da0",
   "metadata": {},
   "outputs": [],
   "source": []
  }
 ],
 "metadata": {
  "kernelspec": {
   "display_name": "base",
   "language": "python",
   "name": "python3"
  },
  "language_info": {
   "codemirror_mode": {
    "name": "ipython",
    "version": 3
   },
   "file_extension": ".py",
   "mimetype": "text/x-python",
   "name": "python",
   "nbconvert_exporter": "python",
   "pygments_lexer": "ipython3",
   "version": "3.12.7"
  }
 },
 "nbformat": 4,
 "nbformat_minor": 5
}
