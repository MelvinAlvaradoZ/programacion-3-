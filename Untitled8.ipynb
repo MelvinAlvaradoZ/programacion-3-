{
 "cells": [
  {
   "cell_type": "code",
   "execution_count": 1,
   "id": "2bfe3bd7-d77c-45f6-b4fd-71b6166974e3",
   "metadata": {},
   "outputs": [
    {
     "name": "stdin",
     "output_type": "stream",
     "text": [
      "Ingrese el precio de gasolina 40\n",
      "ingrese loskilometros a recorrer 800\n"
     ]
    },
    {
     "name": "stdout",
     "output_type": "stream",
     "text": [
      "el sub_total es: 6400.0\n"
     ]
    }
   ],
   "source": [
    "gasolina=float(input(\"Ingrese el precio de gasolina\"))\n",
    "kilometros =float(input(\"ingrese loskilometros a recorrer\"))\n",
    "\n",
    "sub_total=kilometros/5\n",
    "total = sub_total * gasolina\n",
    "print(\"el sub_total es:\",total)\n"
   ]
  },
  {
   "cell_type": "code",
   "execution_count": null,
   "id": "356c8eb1-d764-490d-8b25-915d6e73d763",
   "metadata": {},
   "outputs": [],
   "source": []
  }
 ],
 "metadata": {
  "kernelspec": {
   "display_name": "Python 3 (ipykernel)",
   "language": "python",
   "name": "python3"
  },
  "language_info": {
   "codemirror_mode": {
    "name": "ipython",
    "version": 3
   },
   "file_extension": ".py",
   "mimetype": "text/x-python",
   "name": "python",
   "nbconvert_exporter": "python",
   "pygments_lexer": "ipython3",
   "version": "3.13.2"
  }
 },
 "nbformat": 4,
 "nbformat_minor": 5
}
