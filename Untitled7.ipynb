{
 "cells": [
  {
   "cell_type": "code",
   "execution_count": 3,
   "id": "17391e9b-2af9-46cd-bedd-beb004490990",
   "metadata": {},
   "outputs": [
    {
     "name": "stdin",
     "output_type": "stream",
     "text": [
      "ingrese kilometro 1200\n",
      "ingrese los dias 10\n",
      "ingreseel valor de seguro 800\n"
     ]
    },
    {
     "name": "stdout",
     "output_type": "stream",
     "text": [
      "el subdotal es: 2211.0\n"
     ]
    }
   ],
   "source": [
    "\n",
    "\n",
    "kilometro=float(input(\"ingrese kilometro\"))\n",
    "dias=float(input(\"ingrese los dias\"))\n",
    "seguro=float(input(\"ingreseel valor de seguro\"))\n",
    "\n",
    "sub_total= kilometro + dias + seguro\n",
    "total = sub_total * 0.10 + sub_total\n",
    "print(\"el subdotal es:\",total)"
   ]
  },
  {
   "cell_type": "code",
   "execution_count": null,
   "id": "35d019c4-c50d-4cb4-8b73-648aaeb64ab6",
   "metadata": {},
   "outputs": [],
   "source": []
  }
 ],
 "metadata": {
  "kernelspec": {
   "display_name": "Python 3 (ipykernel)",
   "language": "python",
   "name": "python3"
  },
  "language_info": {
   "codemirror_mode": {
    "name": "ipython",
    "version": 3
   },
   "file_extension": ".py",
   "mimetype": "text/x-python",
   "name": "python",
   "nbconvert_exporter": "python",
   "pygments_lexer": "ipython3",
   "version": "3.13.2"
  }
 },
 "nbformat": 4,
 "nbformat_minor": 5
}
