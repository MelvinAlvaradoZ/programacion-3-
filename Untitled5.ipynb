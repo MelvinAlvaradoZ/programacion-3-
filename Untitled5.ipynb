{
 "cells": [
  {
   "cell_type": "markdown",
   "id": "9651cc51-bf5b-4762-930f-344c024e42f8",
   "metadata": {},
   "source": []
  },
  {
   "cell_type": "code",
   "execution_count": 8,
   "id": "2c2dff8e-87d2-42c0-86f3-55c1542011ad",
   "metadata": {},
   "outputs": [
    {
     "name": "stdin",
     "output_type": "stream",
     "text": [
      "ingrese el monto a depositar 1000\n",
      "ingrese el monto a depositar 0.08\n",
      "ingrese el interes 5\n"
     ]
    },
    {
     "name": "stdout",
     "output_type": "stream",
     "text": [
      "el total de interes por 5 años es: 1469.3280768000006\n"
     ]
    }
   ],
   "source": [
    "\n",
    "p=float(input(\"ingrese el monto a depositar\"))\n",
    "i=float(input(\"ingrese el monto a depositar\"))\n",
    "n=float(input(\"ingrese el interes\"))\n",
    "\n",
    "\n",
    "a=p*math.pow((1+i),n)\n",
    "\n",
    "print(\"el total de interes por 5 años es:\",a)"
   ]
  },
  {
   "cell_type": "code",
   "execution_count": null,
   "id": "03f511b7-dd70-425d-970a-80f7e772e5ee",
   "metadata": {},
   "outputs": [],
   "source": []
  }
 ],
 "metadata": {
  "kernelspec": {
   "display_name": "Python 3 (ipykernel)",
   "language": "python",
   "name": "python3"
  },
  "language_info": {
   "codemirror_mode": {
    "name": "ipython",
    "version": 3
   },
   "file_extension": ".py",
   "mimetype": "text/x-python",
   "name": "python",
   "nbconvert_exporter": "python",
   "pygments_lexer": "ipython3",
   "version": "3.13.2"
  }
 },
 "nbformat": 4,
 "nbformat_minor": 5
}
