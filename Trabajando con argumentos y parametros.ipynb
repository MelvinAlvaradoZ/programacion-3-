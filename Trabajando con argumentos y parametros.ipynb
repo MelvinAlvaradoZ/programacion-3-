{
 "cells": [
  {
   "cell_type": "code",
   "execution_count": 1,
   "id": "8ae458c1-09c5-4b0e-b26a-0891d92a41e3",
   "metadata": {},
   "outputs": [
    {
     "data": {
      "text/plain": [
       "-1"
      ]
     },
     "execution_count": 1,
     "metadata": {},
     "output_type": "execute_result"
    }
   ],
   "source": [
    "# Argumentos por posición\n",
    "def resta(a,b):\n",
    "    return a-b\n",
    "\n",
    "resta(1,2)   # posición índice 0 valor 1, posición índice 1 valor 2"
   ]
  },
  {
   "cell_type": "code",
   "execution_count": 2,
   "id": "dc2ae8d7-25a9-4df1-a2d3-74c23ceea498",
   "metadata": {},
   "outputs": [
    {
     "data": {
      "text/plain": [
       "-1"
      ]
     },
     "execution_count": 2,
     "metadata": {},
     "output_type": "execute_result"
    }
   ],
   "source": [
    "# Argumentos por nombre\n",
    "resta(b=2,a=1)"
   ]
  },
  {
   "cell_type": "code",
   "execution_count": null,
   "id": "54d70043-08d8-4fb0-97c5-1ae050ddb5b4",
   "metadata": {},
   "outputs": [],
   "source": [
    "### Llamada sin argumentos\n",
    "#Al llamar una función que tiene definidos unos parámetros, si no pasamos los argumentos correctamente provocará un error:\n",
    "resta()"
   ]
  },
  {
   "cell_type": "code",
   "execution_count": 4,
   "id": "24b1bb24-f1a1-43b2-a52d-ce4e6b00b673",
   "metadata": {},
   "outputs": [
    {
     "data": {
      "text/plain": [
       "-4"
      ]
     },
     "execution_count": 4,
     "metadata": {},
     "output_type": "execute_result"
    }
   ],
   "source": [
    "# Parámetros por defecto\n",
    "#Para solucionarlo podemos asignar unos valores por defecto nulos a los parámetros, y de ésa forma podríamos hacer una comprobación antes de ejecutar el código de la función:\n",
    "def resta(a=None,b=None):\n",
    "    if a == None or b == None:\n",
    "        print(\"Error, debes enviar dos números a la función\")\n",
    "        return\n",
    "    return a-b\n",
    "resta(1,5)"
   ]
  }
 ],
 "metadata": {
  "kernelspec": {
   "display_name": "Python 3 (ipykernel)",
   "language": "python",
   "name": "python3"
  },
  "language_info": {
   "codemirror_mode": {
    "name": "ipython",
    "version": 3
   },
   "file_extension": ".py",
   "mimetype": "text/x-python",
   "name": "python",
   "nbconvert_exporter": "python",
   "pygments_lexer": "ipython3",
   "version": "3.12.7"
  }
 },
 "nbformat": 4,
 "nbformat_minor": 5
}
