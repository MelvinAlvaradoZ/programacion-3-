{
 "cells": [
  {
   "cell_type": "code",
   "execution_count": 1,
   "id": "133c89e6-32a0-4517-9caa-e96bf29cbc8a",
   "metadata": {},
   "outputs": [],
   "source": [
    "num1=27\n",
    "num2=14"
   ]
  },
  {
   "cell_type": "code",
   "execution_count": 2,
   "id": "03cf2255-905e-4ea9-abde-ee0c47f8c97a",
   "metadata": {},
   "outputs": [
    {
     "name": "stdout",
     "output_type": "stream",
     "text": [
      "sumatoria de num1:  27 y numero2: 41\n"
     ]
    }
   ],
   "source": [
    "print(\"sumatoria de num1: \",num1,\"y numero2:\",num1+num2)"
   ]
  },
  {
   "cell_type": "code",
   "execution_count": 2,
   "id": "398d3575-dd83-447e-900b-e2c98f7157ff",
   "metadata": {},
   "outputs": [
    {
     "ename": "SyntaxError",
     "evalue": "invalid syntax (109226274.py, line 1)",
     "output_type": "error",
     "traceback": [
      "\u001b[1;36m  Cell \u001b[1;32mIn[2], line 1\u001b[1;36m\u001b[0m\n\u001b[1;33m    print(\"sumatoria de num1: \",num1 \"y numero2:\",num1+num2)\u001b[0m\n\u001b[1;37m                                     ^\u001b[0m\n\u001b[1;31mSyntaxError\u001b[0m\u001b[1;31m:\u001b[0m invalid syntax\n"
     ]
    }
   ],
   "source": [
    "print(\"sumatoria de num1: \",num1 \"y numero2:\",num1+num2)"
   ]
  },
  {
   "cell_type": "code",
   "execution_count": null,
   "id": "984e598e-d952-4dcd-bd30-ba6e4be3e63f",
   "metadata": {},
   "outputs": [],
   "source": []
  }
 ],
 "metadata": {
  "kernelspec": {
   "display_name": "Python 3 (ipykernel)",
   "language": "python",
   "name": "python3"
  },
  "language_info": {
   "codemirror_mode": {
    "name": "ipython",
    "version": 3
   },
   "file_extension": ".py",
   "mimetype": "text/x-python",
   "name": "python",
   "nbconvert_exporter": "python",
   "pygments_lexer": "ipython3",
   "version": "3.13.2"
  }
 },
 "nbformat": 4,
 "nbformat_minor": 5
}
